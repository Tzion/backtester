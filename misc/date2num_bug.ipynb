{
 "cells": [
  {
   "cell_type": "code",
   "execution_count": 2,
   "metadata": {},
   "outputs": [],
   "source": [
    "from backtrader import date2num, num2date\n",
    "from datetime import datetime, timedelta, time"
   ]
  },
  {
   "cell_type": "code",
   "execution_count": 93,
   "metadata": {},
   "outputs": [],
   "source": [
    "def check_conversion(time, verbose=True):\n",
    "    if type(time) is datetime:\n",
    "        converted = num2date(date2num(time))\n",
    "    else:\n",
    "        converted = date2num(num2date(time))\n",
    "    diviation = converted - time\n",
    "    if verbose:\n",
    "        if not diviation:\n",
    "            print(f'conversion of {time} is OK')\n",
    "        else:\n",
    "            print(f'conversion deviation = {abs(diviation)}:\\n\\t\\t\\toriginal=\\t{time}\\n\\t\\t\\tconverted=\\t{converted}')\n",
    "    return diviation\n",
    "\n",
    "cs = check_conversion"
   ]
  },
  {
   "cell_type": "code",
   "execution_count": 47,
   "metadata": {},
   "outputs": [
    {
     "name": "stdout",
     "output_type": "stream",
     "text": [
      "conversion deviation:\n",
      "\t\t\toriginal=\t2021-03-12 23:59:59.999990\n",
      "\t\t\tconverted=\t2021-03-12 23:59:59.999989\n",
      "conversion of 2021-03-12 23:59:59.999989 is OK\n",
      "conversion of 737865.1666666665 is OK\n",
      "conversion deviation:\n",
      "\t\t\toriginal=\t737865.2083333333\n",
      "\t\t\tconverted=\t737865.2083333334\n"
     ]
    },
    {
     "data": {
      "text/plain": [
       "False"
      ]
     },
     "execution_count": 47,
     "metadata": {},
     "output_type": "execute_result"
    }
   ],
   "source": [
    "cs(datetime(2021, 3, 12, 23, 59, 59, 999990))\n",
    "cs(datetime(2021, 3, 12, 23, 59, 59, 999989))\n",
    "cs(737865.1666666665)\n",
    "cs(737865.2083333333)"
   ]
  },
  {
   "cell_type": "code",
   "execution_count": 48,
   "metadata": {},
   "outputs": [
    {
     "name": "stdout",
     "output_type": "stream",
     "text": [
      "conversion deviation:\n",
      "\t\t\toriginal=\t2021-03-12 23:59:59.999990\n",
      "\t\t\tconverted=\t2021-03-12 23:59:59.999989\n",
      "conversion deviation:\n",
      "\t\t\toriginal=\t2021-03-12 22:59:59.999990\n",
      "\t\t\tconverted=\t2021-03-12 23:00:00\n"
     ]
    },
    {
     "data": {
      "text/plain": [
       "False"
      ]
     },
     "execution_count": 48,
     "metadata": {},
     "output_type": "execute_result"
    }
   ],
   "source": [
    "cs(datetime(2021, 3, 12, 23, 59, 59, 999990))\n",
    "cs(datetime(2021, 3, 12, 22, 59, 59, 999990))"
   ]
  },
  {
   "cell_type": "code",
   "execution_count": 88,
   "metadata": {},
   "outputs": [
    {
     "name": "stdout",
     "output_type": "stream",
     "text": [
      "conversion deviation:\n",
      "\t\t\toriginal=\t2021-03-12 23:59:59.999974\n",
      "\t\t\tconverted=\t2021-03-12 23:59:59.999969\n",
      "conversion deviation:\n",
      "\t\t\toriginal=\t2021-03-12 23:59:59.999975\n",
      "\t\t\tconverted=\t2021-03-12 23:59:59.999979\n",
      "conversion deviation:\n",
      "\t\t\toriginal=\t2021-03-12 23:59:59.999976\n",
      "\t\t\tconverted=\t2021-03-12 23:59:59.999979\n",
      "conversion deviation:\n",
      "\t\t\toriginal=\t2021-03-12 23:59:59.999977\n",
      "\t\t\tconverted=\t2021-03-12 23:59:59.999979\n",
      "conversion deviation:\n",
      "\t\t\toriginal=\t2021-03-12 23:59:59.999978\n",
      "\t\t\tconverted=\t2021-03-12 23:59:59.999979\n",
      "conversion of 2021-03-12 23:59:59.999979 is OK\n",
      "conversion deviation:\n",
      "\t\t\toriginal=\t2021-03-12 23:59:59.999980\n",
      "\t\t\tconverted=\t2021-03-12 23:59:59.999979\n",
      "conversion deviation:\n",
      "\t\t\toriginal=\t2021-03-12 23:59:59.999981\n",
      "\t\t\tconverted=\t2021-03-12 23:59:59.999979\n",
      "conversion deviation:\n",
      "\t\t\toriginal=\t2021-03-12 23:59:59.999982\n",
      "\t\t\tconverted=\t2021-03-12 23:59:59.999979\n",
      "conversion deviation:\n",
      "\t\t\toriginal=\t2021-03-12 23:59:59.999983\n",
      "\t\t\tconverted=\t2021-03-12 23:59:59.999979\n",
      "conversion deviation:\n",
      "\t\t\toriginal=\t2021-03-12 23:59:59.999984\n",
      "\t\t\tconverted=\t2021-03-12 23:59:59.999979\n",
      "conversion deviation:\n",
      "\t\t\toriginal=\t2021-03-12 23:59:59.999985\n",
      "\t\t\tconverted=\t2021-03-12 23:59:59.999989\n",
      "conversion deviation:\n",
      "\t\t\toriginal=\t2021-03-12 23:59:59.999986\n",
      "\t\t\tconverted=\t2021-03-12 23:59:59.999989\n",
      "conversion deviation:\n",
      "\t\t\toriginal=\t2021-03-12 23:59:59.999987\n",
      "\t\t\tconverted=\t2021-03-12 23:59:59.999989\n",
      "conversion deviation:\n",
      "\t\t\toriginal=\t2021-03-12 23:59:59.999988\n",
      "\t\t\tconverted=\t2021-03-12 23:59:59.999989\n",
      "conversion of 2021-03-12 23:59:59.999989 is OK\n",
      "conversion deviation:\n",
      "\t\t\toriginal=\t2021-03-12 23:59:59.999990\n",
      "\t\t\tconverted=\t2021-03-12 23:59:59.999989\n",
      "conversion deviation:\n",
      "\t\t\toriginal=\t2021-03-12 23:59:59.999991\n",
      "\t\t\tconverted=\t2021-03-12 23:59:59.999989\n",
      "conversion deviation:\n",
      "\t\t\toriginal=\t2021-03-12 23:59:59.999992\n",
      "\t\t\tconverted=\t2021-03-12 23:59:59.999989\n",
      "conversion deviation:\n",
      "\t\t\toriginal=\t2021-03-12 23:59:59.999993\n",
      "\t\t\tconverted=\t2021-03-12 23:59:59.999989\n",
      "conversion deviation:\n",
      "\t\t\toriginal=\t2021-03-12 23:59:59.999994\n",
      "\t\t\tconverted=\t2021-03-12 23:59:59.999989\n",
      "conversion deviation:\n",
      "\t\t\toriginal=\t2021-03-12 23:59:59.999995\n",
      "\t\t\tconverted=\t2021-03-13 00:00:00\n",
      "conversion deviation:\n",
      "\t\t\toriginal=\t2021-03-12 23:59:59.999996\n",
      "\t\t\tconverted=\t2021-03-13 00:00:00\n",
      "conversion deviation:\n",
      "\t\t\toriginal=\t2021-03-12 23:59:59.999997\n",
      "\t\t\tconverted=\t2021-03-13 00:00:00\n",
      "conversion deviation:\n",
      "\t\t\toriginal=\t2021-03-12 23:59:59.999998\n",
      "\t\t\tconverted=\t2021-03-13 00:00:00\n",
      "conversion deviation:\n",
      "\t\t\toriginal=\t2021-03-12 23:59:59.999999\n",
      "\t\t\tconverted=\t2021-03-13 00:00:00\n"
     ]
    },
    {
     "data": {
      "text/plain": [
       "[False,\n",
       " False,\n",
       " False,\n",
       " False,\n",
       " False,\n",
       " True,\n",
       " False,\n",
       " False,\n",
       " False,\n",
       " False,\n",
       " False,\n",
       " False,\n",
       " False,\n",
       " False,\n",
       " False,\n",
       " True,\n",
       " False,\n",
       " False,\n",
       " False,\n",
       " False,\n",
       " False,\n",
       " False,\n",
       " False,\n",
       " False,\n",
       " False,\n",
       " False]"
      ]
     },
     "execution_count": 88,
     "metadata": {},
     "output_type": "execute_result"
    }
   ],
   "source": [
    "[check_conversion(d, True,) for d in [datetime(2021, 3,12, 23,59,59, i) for i in range(999974, 999999+1)]]"
   ]
  },
  {
   "cell_type": "code",
   "execution_count": 94,
   "metadata": {},
   "outputs": [
    {
     "name": "stdout",
     "output_type": "stream",
     "text": [
      "conversion deviation = 0:00:00.000004:\n",
      "\t\t\toriginal=\t2021-03-12 00:59:59.999990\n",
      "\t\t\tconverted=\t2021-03-12 00:59:59.999986\n",
      "conversion deviation = 0:00:00.000010:\n",
      "\t\t\toriginal=\t2021-03-12 01:59:59.999990\n",
      "\t\t\tconverted=\t2021-03-12 02:00:00\n",
      "conversion deviation = 0:00:00.000001:\n",
      "\t\t\toriginal=\t2021-03-12 02:59:59.999990\n",
      "\t\t\tconverted=\t2021-03-12 02:59:59.999989\n",
      "conversion deviation = 0:00:00.000004:\n",
      "\t\t\toriginal=\t2021-03-12 03:59:59.999990\n",
      "\t\t\tconverted=\t2021-03-12 03:59:59.999986\n",
      "conversion deviation = 0:00:00.000010:\n",
      "\t\t\toriginal=\t2021-03-12 04:59:59.999990\n",
      "\t\t\tconverted=\t2021-03-12 05:00:00\n",
      "conversion deviation = 0:00:00.000001:\n",
      "\t\t\toriginal=\t2021-03-12 05:59:59.999990\n",
      "\t\t\tconverted=\t2021-03-12 05:59:59.999989\n",
      "conversion deviation = 0:00:00.000004:\n",
      "\t\t\toriginal=\t2021-03-12 06:59:59.999990\n",
      "\t\t\tconverted=\t2021-03-12 06:59:59.999986\n",
      "conversion deviation = 0:00:00.000010:\n",
      "\t\t\toriginal=\t2021-03-12 07:59:59.999990\n",
      "\t\t\tconverted=\t2021-03-12 08:00:00\n",
      "conversion deviation = 0:00:00.000001:\n",
      "\t\t\toriginal=\t2021-03-12 08:59:59.999990\n",
      "\t\t\tconverted=\t2021-03-12 08:59:59.999989\n",
      "conversion deviation = 0:00:00.000004:\n",
      "\t\t\toriginal=\t2021-03-12 09:59:59.999990\n",
      "\t\t\tconverted=\t2021-03-12 09:59:59.999986\n",
      "conversion deviation = 0:00:00.000010:\n",
      "\t\t\toriginal=\t2021-03-12 10:59:59.999990\n",
      "\t\t\tconverted=\t2021-03-12 11:00:00\n",
      "conversion deviation = 0:00:00.000001:\n",
      "\t\t\toriginal=\t2021-03-12 11:59:59.999990\n",
      "\t\t\tconverted=\t2021-03-12 11:59:59.999989\n",
      "conversion deviation = 0:00:00.000004:\n",
      "\t\t\toriginal=\t2021-03-12 12:59:59.999990\n",
      "\t\t\tconverted=\t2021-03-12 12:59:59.999986\n",
      "conversion deviation = 0:00:00.000010:\n",
      "\t\t\toriginal=\t2021-03-12 13:59:59.999990\n",
      "\t\t\tconverted=\t2021-03-12 14:00:00\n",
      "conversion deviation = 0:00:00.000001:\n",
      "\t\t\toriginal=\t2021-03-12 14:59:59.999990\n",
      "\t\t\tconverted=\t2021-03-12 14:59:59.999989\n",
      "conversion deviation = 0:00:00.000004:\n",
      "\t\t\toriginal=\t2021-03-12 15:59:59.999990\n",
      "\t\t\tconverted=\t2021-03-12 15:59:59.999986\n",
      "conversion deviation = 0:00:00.000010:\n",
      "\t\t\toriginal=\t2021-03-12 16:59:59.999990\n",
      "\t\t\tconverted=\t2021-03-12 17:00:00\n",
      "conversion deviation = 0:00:00.000001:\n",
      "\t\t\toriginal=\t2021-03-12 17:59:59.999990\n",
      "\t\t\tconverted=\t2021-03-12 17:59:59.999989\n",
      "conversion deviation = 0:00:00.000004:\n",
      "\t\t\toriginal=\t2021-03-12 18:59:59.999990\n",
      "\t\t\tconverted=\t2021-03-12 18:59:59.999986\n",
      "conversion deviation = 0:00:00.000010:\n",
      "\t\t\toriginal=\t2021-03-12 19:59:59.999990\n",
      "\t\t\tconverted=\t2021-03-12 20:00:00\n",
      "conversion deviation = 0:00:00.000001:\n",
      "\t\t\toriginal=\t2021-03-12 20:59:59.999990\n",
      "\t\t\tconverted=\t2021-03-12 20:59:59.999989\n",
      "conversion deviation = 0:00:00.000004:\n",
      "\t\t\toriginal=\t2021-03-12 21:59:59.999990\n",
      "\t\t\tconverted=\t2021-03-12 21:59:59.999986\n",
      "conversion deviation = 0:00:00.000010:\n",
      "\t\t\toriginal=\t2021-03-12 22:59:59.999990\n",
      "\t\t\tconverted=\t2021-03-12 23:00:00\n",
      "conversion deviation = 0:00:00.000001:\n",
      "\t\t\toriginal=\t2021-03-12 23:59:59.999990\n",
      "\t\t\tconverted=\t2021-03-12 23:59:59.999989\n"
     ]
    },
    {
     "data": {
      "text/plain": [
       "[datetime.timedelta(days=-1, seconds=86399, microseconds=999996),\n",
       " datetime.timedelta(microseconds=10),\n",
       " datetime.timedelta(days=-1, seconds=86399, microseconds=999999),\n",
       " datetime.timedelta(days=-1, seconds=86399, microseconds=999996),\n",
       " datetime.timedelta(microseconds=10),\n",
       " datetime.timedelta(days=-1, seconds=86399, microseconds=999999),\n",
       " datetime.timedelta(days=-1, seconds=86399, microseconds=999996),\n",
       " datetime.timedelta(microseconds=10),\n",
       " datetime.timedelta(days=-1, seconds=86399, microseconds=999999),\n",
       " datetime.timedelta(days=-1, seconds=86399, microseconds=999996),\n",
       " datetime.timedelta(microseconds=10),\n",
       " datetime.timedelta(days=-1, seconds=86399, microseconds=999999),\n",
       " datetime.timedelta(days=-1, seconds=86399, microseconds=999996),\n",
       " datetime.timedelta(microseconds=10),\n",
       " datetime.timedelta(days=-1, seconds=86399, microseconds=999999),\n",
       " datetime.timedelta(days=-1, seconds=86399, microseconds=999996),\n",
       " datetime.timedelta(microseconds=10),\n",
       " datetime.timedelta(days=-1, seconds=86399, microseconds=999999),\n",
       " datetime.timedelta(days=-1, seconds=86399, microseconds=999996),\n",
       " datetime.timedelta(microseconds=10),\n",
       " datetime.timedelta(days=-1, seconds=86399, microseconds=999999),\n",
       " datetime.timedelta(days=-1, seconds=86399, microseconds=999996),\n",
       " datetime.timedelta(microseconds=10),\n",
       " datetime.timedelta(days=-1, seconds=86399, microseconds=999999)]"
      ]
     },
     "execution_count": 94,
     "metadata": {},
     "output_type": "execute_result"
    }
   ],
   "source": [
    "[check_conversion(d, True,) for d in [datetime(2021, 3,12, i,59,59, 999990) for i in range(0,24)]]"
   ]
  },
  {
   "cell_type": "code",
   "execution_count": 73,
   "metadata": {},
   "outputs": [
    {
     "name": "stdout",
     "output_type": "stream",
     "text": [
      "conversion deviation:\n",
      "\t\t\toriginal=\t737865.2083333333\n",
      "\t\t\tconverted=\t737865.2083333334\n",
      "conversion of 737865.2083333334 is OK\n",
      "conversion of 737865.2083333335 is OK\n",
      "conversion of 737865.2083333336 is OK\n",
      "conversion of 737865.2083333337 is OK\n",
      "conversion of 737865.2083333338 is OK\n",
      "conversion of 737865.208333334 is OK\n",
      "conversion of 737865.2083333341 is OK\n",
      "conversion of 737865.2083333342 is OK\n",
      "conversion of 737865.2083333343 is OK\n",
      "conversion of 737865.2083333344 is OK\n",
      "conversion of 737865.2083333345 is OK\n",
      "conversion of 737865.2083333347 is OK\n",
      "conversion of 737865.2083333348 is OK\n",
      "conversion of 737865.2083333349 is OK\n",
      "conversion of 737865.208333335 is OK\n",
      "conversion of 737865.2083333351 is OK\n",
      "conversion of 737865.2083333352 is OK\n",
      "conversion of 737865.2083333354 is OK\n",
      "conversion of 737865.2083333355 is OK\n",
      "conversion of 737865.2083333356 is OK\n",
      "conversion of 737865.2083333357 is OK\n",
      "conversion of 737865.2083333358 is OK\n",
      "conversion of 737865.2083333359 is OK\n",
      "conversion of 737865.208333336 is OK\n",
      "conversion of 737865.2083333362 is OK\n",
      "conversion of 737865.2083333363 is OK\n",
      "conversion of 737865.2083333364 is OK\n",
      "conversion of 737865.2083333365 is OK\n",
      "conversion of 737865.2083333366 is OK\n",
      "conversion of 737865.2083333367 is OK\n",
      "conversion of 737865.2083333369 is OK\n",
      "conversion of 737865.208333337 is OK\n",
      "conversion of 737865.2083333371 is OK\n",
      "conversion of 737865.2083333372 is OK\n",
      "conversion of 737865.2083333373 is OK\n",
      "conversion of 737865.2083333374 is OK\n",
      "conversion of 737865.2083333376 is OK\n",
      "conversion of 737865.2083333377 is OK\n",
      "conversion of 737865.2083333378 is OK\n",
      "conversion of 737865.2083333379 is OK\n",
      "conversion of 737865.208333338 is OK\n",
      "conversion of 737865.2083333381 is OK\n",
      "conversion of 737865.2083333383 is OK\n",
      "conversion of 737865.2083333384 is OK\n",
      "conversion of 737865.2083333385 is OK\n",
      "conversion of 737865.2083333386 is OK\n",
      "conversion of 737865.2083333387 is OK\n",
      "conversion of 737865.2083333388 is OK\n",
      "conversion of 737865.208333339 is OK\n",
      "conversion of 737865.2083333391 is OK\n"
     ]
    },
    {
     "data": {
      "text/plain": [
       "[False,\n",
       " True,\n",
       " True,\n",
       " True,\n",
       " True,\n",
       " True,\n",
       " True,\n",
       " True,\n",
       " True,\n",
       " True,\n",
       " True,\n",
       " True,\n",
       " True,\n",
       " True,\n",
       " True,\n",
       " True,\n",
       " True,\n",
       " True,\n",
       " True,\n",
       " True,\n",
       " True,\n",
       " True,\n",
       " True,\n",
       " True,\n",
       " True,\n",
       " True,\n",
       " True,\n",
       " True,\n",
       " True,\n",
       " True,\n",
       " True,\n",
       " True,\n",
       " True,\n",
       " True,\n",
       " True,\n",
       " True,\n",
       " True,\n",
       " True,\n",
       " True,\n",
       " True,\n",
       " True,\n",
       " True,\n",
       " True,\n",
       " True,\n",
       " True,\n",
       " True,\n",
       " True,\n",
       " True,\n",
       " True,\n",
       " True,\n",
       " True]"
      ]
     },
     "execution_count": 73,
     "metadata": {},
     "output_type": "execute_result"
    }
   ],
   "source": [
    "import numpy as np\n",
    "[check_conversion(x) for x in np.arange(737865.2083333332, 737865.2083333383, 1e-10)]"
   ]
  },
  {
   "cell_type": "code",
   "execution_count": 80,
   "metadata": {},
   "outputs": [
    {
     "data": {
      "text/plain": [
       "True"
      ]
     },
     "execution_count": 80,
     "metadata": {},
     "output_type": "execute_result"
    }
   ],
   "source": [
    "all([check_conversion(x, False) for x in np.arange(737865.208303, 737865.208353, 1e-6)])"
   ]
  },
  {
   "cell_type": "code",
   "execution_count": 95,
   "metadata": {},
   "outputs": [
    {
     "name": "stdout",
     "output_type": "stream",
     "text": [
      "conversion deviation = 0:00:00.000004:\n",
      "\t\t\toriginal=\t2021-03-12 00:59:59.999900\n",
      "\t\t\tconverted=\t2021-03-12 00:59:59.999896\n",
      "conversion deviation = 0:00:00.000002:\n",
      "\t\t\toriginal=\t2021-03-12 01:59:59.999900\n",
      "\t\t\tconverted=\t2021-03-12 01:59:59.999902\n",
      "conversion deviation = 0:00:00.000001:\n",
      "\t\t\toriginal=\t2021-03-12 02:59:59.999900\n",
      "\t\t\tconverted=\t2021-03-12 02:59:59.999899\n",
      "conversion deviation = 0:00:00.000004:\n",
      "\t\t\toriginal=\t2021-03-12 03:59:59.999900\n",
      "\t\t\tconverted=\t2021-03-12 03:59:59.999896\n",
      "conversion deviation = 0:00:00.000002:\n",
      "\t\t\toriginal=\t2021-03-12 04:59:59.999900\n",
      "\t\t\tconverted=\t2021-03-12 04:59:59.999902\n",
      "conversion deviation = 0:00:00.000001:\n",
      "\t\t\toriginal=\t2021-03-12 05:59:59.999900\n",
      "\t\t\tconverted=\t2021-03-12 05:59:59.999899\n",
      "conversion deviation = 0:00:00.000004:\n",
      "\t\t\toriginal=\t2021-03-12 06:59:59.999900\n",
      "\t\t\tconverted=\t2021-03-12 06:59:59.999896\n",
      "conversion deviation = 0:00:00.000002:\n",
      "\t\t\toriginal=\t2021-03-12 07:59:59.999900\n",
      "\t\t\tconverted=\t2021-03-12 07:59:59.999902\n",
      "conversion deviation = 0:00:00.000001:\n",
      "\t\t\toriginal=\t2021-03-12 08:59:59.999900\n",
      "\t\t\tconverted=\t2021-03-12 08:59:59.999899\n",
      "conversion deviation = 0:00:00.000004:\n",
      "\t\t\toriginal=\t2021-03-12 09:59:59.999900\n",
      "\t\t\tconverted=\t2021-03-12 09:59:59.999896\n",
      "conversion deviation = 0:00:00.000002:\n",
      "\t\t\toriginal=\t2021-03-12 10:59:59.999900\n",
      "\t\t\tconverted=\t2021-03-12 10:59:59.999902\n",
      "conversion deviation = 0:00:00.000001:\n",
      "\t\t\toriginal=\t2021-03-12 11:59:59.999900\n",
      "\t\t\tconverted=\t2021-03-12 11:59:59.999899\n",
      "conversion deviation = 0:00:00.000004:\n",
      "\t\t\toriginal=\t2021-03-12 12:59:59.999900\n",
      "\t\t\tconverted=\t2021-03-12 12:59:59.999896\n",
      "conversion deviation = 0:00:00.000002:\n",
      "\t\t\toriginal=\t2021-03-12 13:59:59.999900\n",
      "\t\t\tconverted=\t2021-03-12 13:59:59.999902\n",
      "conversion deviation = 0:00:00.000001:\n",
      "\t\t\toriginal=\t2021-03-12 14:59:59.999900\n",
      "\t\t\tconverted=\t2021-03-12 14:59:59.999899\n",
      "conversion deviation = 0:00:00.000004:\n",
      "\t\t\toriginal=\t2021-03-12 15:59:59.999900\n",
      "\t\t\tconverted=\t2021-03-12 15:59:59.999896\n",
      "conversion deviation = 0:00:00.000002:\n",
      "\t\t\toriginal=\t2021-03-12 16:59:59.999900\n",
      "\t\t\tconverted=\t2021-03-12 16:59:59.999902\n",
      "conversion deviation = 0:00:00.000001:\n",
      "\t\t\toriginal=\t2021-03-12 17:59:59.999900\n",
      "\t\t\tconverted=\t2021-03-12 17:59:59.999899\n",
      "conversion deviation = 0:00:00.000004:\n",
      "\t\t\toriginal=\t2021-03-12 18:59:59.999900\n",
      "\t\t\tconverted=\t2021-03-12 18:59:59.999896\n",
      "conversion deviation = 0:00:00.000002:\n",
      "\t\t\toriginal=\t2021-03-12 19:59:59.999900\n",
      "\t\t\tconverted=\t2021-03-12 19:59:59.999902\n",
      "conversion deviation = 0:00:00.000001:\n",
      "\t\t\toriginal=\t2021-03-12 20:59:59.999900\n",
      "\t\t\tconverted=\t2021-03-12 20:59:59.999899\n",
      "conversion deviation = 0:00:00.000004:\n",
      "\t\t\toriginal=\t2021-03-12 21:59:59.999900\n",
      "\t\t\tconverted=\t2021-03-12 21:59:59.999896\n",
      "conversion deviation = 0:00:00.000002:\n",
      "\t\t\toriginal=\t2021-03-12 22:59:59.999900\n",
      "\t\t\tconverted=\t2021-03-12 22:59:59.999902\n",
      "conversion deviation = 0:00:00.000001:\n",
      "\t\t\toriginal=\t2021-03-12 23:59:59.999900\n",
      "\t\t\tconverted=\t2021-03-12 23:59:59.999899\n"
     ]
    },
    {
     "data": {
      "text/plain": [
       "[datetime.timedelta(days=-1, seconds=86399, microseconds=999996),\n",
       " datetime.timedelta(microseconds=2),\n",
       " datetime.timedelta(days=-1, seconds=86399, microseconds=999999),\n",
       " datetime.timedelta(days=-1, seconds=86399, microseconds=999996),\n",
       " datetime.timedelta(microseconds=2),\n",
       " datetime.timedelta(days=-1, seconds=86399, microseconds=999999),\n",
       " datetime.timedelta(days=-1, seconds=86399, microseconds=999996),\n",
       " datetime.timedelta(microseconds=2),\n",
       " datetime.timedelta(days=-1, seconds=86399, microseconds=999999),\n",
       " datetime.timedelta(days=-1, seconds=86399, microseconds=999996),\n",
       " datetime.timedelta(microseconds=2),\n",
       " datetime.timedelta(days=-1, seconds=86399, microseconds=999999),\n",
       " datetime.timedelta(days=-1, seconds=86399, microseconds=999996),\n",
       " datetime.timedelta(microseconds=2),\n",
       " datetime.timedelta(days=-1, seconds=86399, microseconds=999999),\n",
       " datetime.timedelta(days=-1, seconds=86399, microseconds=999996),\n",
       " datetime.timedelta(microseconds=2),\n",
       " datetime.timedelta(days=-1, seconds=86399, microseconds=999999),\n",
       " datetime.timedelta(days=-1, seconds=86399, microseconds=999996),\n",
       " datetime.timedelta(microseconds=2),\n",
       " datetime.timedelta(days=-1, seconds=86399, microseconds=999999),\n",
       " datetime.timedelta(days=-1, seconds=86399, microseconds=999996),\n",
       " datetime.timedelta(microseconds=2),\n",
       " datetime.timedelta(days=-1, seconds=86399, microseconds=999999)]"
      ]
     },
     "execution_count": 95,
     "metadata": {},
     "output_type": "execute_result"
    }
   ],
   "source": [
    "[check_conversion(d, True,) for d in [datetime(2021, 3,12, i,59,59, 999900) for i in range(0,24)]]"
   ]
  },
  {
   "cell_type": "code",
   "execution_count": null,
   "metadata": {},
   "outputs": [],
   "source": []
  }
 ],
 "metadata": {
  "interpreter": {
   "hash": "367d3427f1f4599187679cd844abd914d38605f8e86616e1562bfbd578fa2f17"
  },
  "kernelspec": {
   "display_name": "Python 3.9.5 64-bit ('venv': venv)",
   "language": "python",
   "name": "python3"
  },
  "language_info": {
   "codemirror_mode": {
    "name": "ipython",
    "version": 3
   },
   "file_extension": ".py",
   "mimetype": "text/x-python",
   "name": "python",
   "nbconvert_exporter": "python",
   "pygments_lexer": "ipython3",
   "version": "3.9.5"
  },
  "orig_nbformat": 4
 },
 "nbformat": 4,
 "nbformat_minor": 2
}
